{
 "cells": [
  {
   "cell_type": "code",
   "execution_count": null,
   "id": "a9172e66-a605-4ab0-82ff-7cc6340f0a83",
   "metadata": {},
   "outputs": [],
   "source": [
    "# Debugging: use an ideal image\n",
    "import cv2\n",
    "\n",
    "def detect_and_draw(img_path, arucoParams):\n",
    "  img = cv2.imread(img_path, cv2.IMREAD_COLOR)\n",
    "\n",
    "  aruco_dict = cv2.aruco.getPredefinedDictionary(cv2.aruco.DICT_APRILTAG_36h11)\n",
    "\n",
    "  detector = cv2.aruco.ArucoDetector(aruco_dict, arucoParams)\n",
    "\n",
    "  (corners, ids, rejected) = detector.detectMarkers(img)\n",
    "\n",
    "  output_image = cv2.aruco.drawDetectedMarkers(img, corners, ids, borderColor=(255, 0, 0))\n",
    "\n",
    "  cv2.imwrite(\"../output.png\", output_image)\n",
    "  cv2.destroyAllWindows()\n",
    "  return (img, corners)"
   ]
  },
  {
   "cell_type": "code",
   "execution_count": null,
   "id": "68d033d9",
   "metadata": {},
   "outputs": [],
   "source": [
    "\n",
    "arucoParams = cv2.aruco.DetectorParameters()\n",
    "# arucoParams.markerBorderBits = 2\n",
    "arucoParams.adaptiveThreshWinSizeStep = 1\n",
    "# Output the detected corners in a new imag\n",
    "(img, corners) = detect_and_draw(\"../test.jpg\", arucoParams)"
   ]
  },
  {
   "cell_type": "code",
   "execution_count": null,
   "id": "94b5caea",
   "metadata": {},
   "outputs": [],
   "source": [
    "# POC:\n",
    "\n",
    "\"\"\"\n",
    "- Position camera slightly in front of the picking mechanism\n",
    "- Detect the corners of the markers\n",
    "- Find the position of the lowest marker in the image\n",
    "- Have a calibration variable as a \"target\", where we aim for the location of the lowest apriltag\n",
    "- The script should constantly output the delta between the current apriltag location and the target\n",
    "- Send the MCU this info via serial\n",
    "- The MCU can be responsible, based on this information, to move forward, stop, or pull back based on the reading\n",
    "\"\"\""
   ]
  }
 ],
 "metadata": {
  "kernelspec": {
   "display_name": ".venv",
   "language": "python",
   "name": "python3"
  },
  "language_info": {
   "codemirror_mode": {
    "name": "ipython",
    "version": 3
   },
   "file_extension": ".py",
   "mimetype": "text/x-python",
   "name": "python",
   "nbconvert_exporter": "python",
   "pygments_lexer": "ipython3",
   "version": "3.13.1"
  }
 },
 "nbformat": 4,
 "nbformat_minor": 5
}
